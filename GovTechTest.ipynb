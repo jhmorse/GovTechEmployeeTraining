{
 "cells": [
  {
   "cell_type": "code",
   "execution_count": 1,
   "id": "ccd3f7d0",
   "metadata": {},
   "outputs": [],
   "source": [
    "import numpy as np"
   ]
  },
  {
   "cell_type": "code",
   "execution_count": 2,
   "id": "efe61838",
   "metadata": {
    "scrolled": true
   },
   "outputs": [
    {
     "data": {
      "text/plain": [
       "-0.6636041018223466"
      ]
     },
     "execution_count": 2,
     "metadata": {},
     "output_type": "execute_result"
    }
   ],
   "source": [
    "data = np.random.standard_normal()\n",
    "data"
   ]
  },
  {
   "cell_type": "markdown",
   "id": "09bbb701",
   "metadata": {},
   "source": [
    "### Some text\n",
    "Here is some text\n",
    "\n",
    "* Item 1\n",
    "* Item 2\n",
    "* Item 3\n"
   ]
  },
  {
   "cell_type": "code",
   "execution_count": null,
   "id": "e2d2cf37",
   "metadata": {},
   "outputs": [],
   "source": []
  }
 ],
 "metadata": {
  "kernelspec": {
   "display_name": "Python 3 (ipykernel)",
   "language": "python",
   "name": "python3"
  },
  "language_info": {
   "codemirror_mode": {
    "name": "ipython",
    "version": 3
   },
   "file_extension": ".py",
   "mimetype": "text/x-python",
   "name": "python",
   "nbconvert_exporter": "python",
   "pygments_lexer": "ipython3",
   "version": "3.9.13"
  }
 },
 "nbformat": 4,
 "nbformat_minor": 5
}
