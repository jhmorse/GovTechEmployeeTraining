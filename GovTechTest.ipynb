{
 "cells": [
  {
   "cell_type": "code",
   "execution_count": 2,
   "id": "ccd3f7d0",
   "metadata": {},
   "outputs": [],
   "source": [
    "import numpy as np"
   ]
  },
  {
   "cell_type": "code",
   "execution_count": 6,
   "id": "efe61838",
   "metadata": {
    "scrolled": true
   },
   "outputs": [
    {
     "data": {
      "text/plain": [
       "[-0.20427504013578085,\n",
       " -0.7058635741966723,\n",
       " -0.8603116856057152,\n",
       " 0.5105644488762234,\n",
       " 0.1518803249620043,\n",
       " 1.231253260725778,\n",
       " -0.7439790083353995]"
      ]
     },
     "execution_count": 6,
     "metadata": {},
     "output_type": "execute_result"
    }
   ],
   "source": [
    "data = [np.random.standard_normal() for i in range(7)]\n",
    "data"
   ]
  },
  {
   "attachments": {},
   "cell_type": "markdown",
   "id": "09bbb701",
   "metadata": {},
   "source": [
    "### Some text\n",
    "Here is some text\n",
    "\n",
    "* Item 1\n",
    "* Item 2\n",
    "* Item 3\n",
    "\n",
    "**First**\n",
    "\n",
    "Second\n",
    "> Third"
   ]
  },
  {
   "cell_type": "code",
   "execution_count": null,
   "id": "e2d2cf37",
   "metadata": {},
   "outputs": [],
   "source": []
  }
 ],
 "metadata": {
  "kernelspec": {
   "display_name": "Python 3 (ipykernel)",
   "language": "python",
   "name": "python3"
  },
  "language_info": {
   "codemirror_mode": {
    "name": "ipython",
    "version": 3
   },
   "file_extension": ".py",
   "mimetype": "text/x-python",
   "name": "python",
   "nbconvert_exporter": "python",
   "pygments_lexer": "ipython3",
   "version": "3.10.4"
  }
 },
 "nbformat": 4,
 "nbformat_minor": 5
}
